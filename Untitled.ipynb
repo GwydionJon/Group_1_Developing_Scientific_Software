{
 "cells": [
  {
   "cell_type": "code",
   "execution_count": null,
   "id": "southwest-presentation",
   "metadata": {},
   "outputs": [],
   "source": [
    "print(\"test\")"
   ]
  },
  {
   "cell_type": "code",
   "execution_count": null,
   "id": "divided-burlington",
   "metadata": {},
   "outputs": [],
   "source": [
    "print(\"Test4\")"
   ]
  },
  {
   "cell_type": "code",
   "execution_count": null,
   "id": "acute-render",
   "metadata": {},
   "outputs": [],
   "source": [
    "import matplotlib.pyplot as plt\n",
    "plt.figure()\n",
    "plt.plot([1,4],[1,2])\n",
    "plt.show()\n",
    "print(\"test\")"
   ]
  },
  {
   "cell_type": "code",
   "execution_count": null,
   "id": "infinite-bulgaria",
   "metadata": {},
   "outputs": [],
   "source": [
    "print(\"Test5\")"
   ]
  },
  {
   "cell_type": "code",
   "execution_count": null,
   "id": "stone-pacific",
   "metadata": {},
   "outputs": [],
   "source": []
  }
 ],
 "metadata": {
  "kernelspec": {
   "display_name": "Python 3",
   "language": "python",
   "name": "python3"
  }
 },
 "nbformat": 4,
 "nbformat_minor": 5
}
